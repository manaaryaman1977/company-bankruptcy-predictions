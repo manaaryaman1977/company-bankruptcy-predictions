{
  "nbformat": 4,
  "nbformat_minor": 0,
  "metadata": {
    "colab": {
      "provenance": []
    },
    "kernelspec": {
      "name": "python3",
      "display_name": "Python 3"
    },
    "language_info": {
      "name": "python"
    }
  },
  "cells": [
    {
      "cell_type": "code",
      "execution_count": 3,
      "metadata": {
        "colab": {
          "base_uri": "https://localhost:8080/"
        },
        "id": "bnZFctmJKiS7",
        "outputId": "366e325b-fdc8-4085-fc45-45efebc7197d"
      },
      "outputs": [
        {
          "output_type": "stream",
          "name": "stdout",
          "text": [
            "Accuracy: 0.9808\n",
            "F1 Score: 0.6038\n",
            "Precision-Recall AUC: 0.6078\n",
            "\n",
            "Classification Report:\n",
            "              precision    recall  f1-score   support\n",
            "\n",
            "           0       0.99      0.99      0.99      1060\n",
            "           1       0.73      0.52      0.60        31\n",
            "\n",
            "    accuracy                           0.98      1091\n",
            "   macro avg       0.86      0.76      0.80      1091\n",
            "weighted avg       0.98      0.98      0.98      1091\n",
            "\n"
          ]
        }
      ],
      "source": [
        "import pandas as pd\n",
        "import numpy as np\n",
        "from sklearn.ensemble import IsolationForest\n",
        "from sklearn.model_selection import train_test_split\n",
        "from sklearn.metrics import classification_report, accuracy_score, f1_score, precision_recall_curve, auc\n",
        "from xgboost import XGBClassifier\n",
        "\n",
        "# Load dataset\n",
        "df = pd.read_csv(\"Train.csv\")  # Replace with your actual dataset\n",
        "\n",
        "# Split target and features\n",
        "y = df.iloc[:, 0]   # First column is the target variable\n",
        "X = df.iloc[:, 1:]  # Remaining columns are features\n",
        "\n",
        "# Train-Test Split\n",
        "X_train, X_test, y_train, y_test = train_test_split(X, y, test_size=0.2, stratify=y, random_state=42)\n",
        "\n",
        "# Implementing the specific Isolation Forest model\n",
        "iso_forest = IsolationForest(\n",
        "    n_estimators=310,\n",
        "    contamination=0.08362674314960916,\n",
        "    random_state=42\n",
        ")\n",
        "iso_forest.fit(X_train)\n",
        "\n",
        "# Generate Anomaly Scores as a New Feature\n",
        "X_train[\"anomaly_score\"] = iso_forest.decision_function(X_train)\n",
        "X_test[\"anomaly_score\"] = iso_forest.decision_function(X_test)\n",
        "\n",
        "# Implementing the specific XGBoost model\n",
        "xgb_model = XGBClassifier(\n",
        "    scale_pos_weight=(y_train.value_counts()[0] / y_train.value_counts()[1]),\n",
        "    eval_metric=\"logloss\",\n",
        "    learning_rate=0.06784517813469125,\n",
        "    max_depth=7,\n",
        "    n_estimators=995,\n",
        "    random_state=42\n",
        ")\n",
        "xgb_model.fit(X_train, y_train)\n",
        "\n",
        "# Predict Probabilities\n",
        "y_pred_prob = xgb_model.predict_proba(X_test)[:, 1]\n",
        "\n",
        "# Adjust Decision Threshold\n",
        "threshold = 0.4  # Can be tuned further\n",
        "y_pred = (y_pred_prob >= threshold).astype(int)\n",
        "\n",
        "# Evaluation\n",
        "accuracy = accuracy_score(y_test, y_pred)\n",
        "f1 = f1_score(y_test, y_pred)\n",
        "precision, recall, _ = precision_recall_curve(y_test, y_pred_prob)\n",
        "pr_auc = auc(recall, precision)\n",
        "\n",
        "# Print Results\n",
        "print(f\"Accuracy: {accuracy:.4f}\")\n",
        "print(f\"F1 Score: {f1:.4f}\")\n",
        "print(f\"Precision-Recall AUC: {pr_auc:.4f}\")\n",
        "print(\"\\nClassification Report:\")\n",
        "print(classification_report(y_test, y_pred))"
      ]
    }
  ]
}