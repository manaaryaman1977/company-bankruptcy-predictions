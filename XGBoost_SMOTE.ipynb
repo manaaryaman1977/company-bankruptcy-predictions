{
  "nbformat": 4,
  "nbformat_minor": 0,
  "metadata": {
    "colab": {
      "provenance": []
    },
    "kernelspec": {
      "name": "python3",
      "display_name": "Python 3"
    },
    "language_info": {
      "name": "python"
    }
  },
  "cells": [
    {
      "cell_type": "code",
      "execution_count": 3,
      "metadata": {
        "colab": {
          "base_uri": "https://localhost:8080/"
        },
        "id": "OJi_jnCV7OZY",
        "outputId": "2ca88f05-804a-44d9-f65d-527776267b5c"
      },
      "outputs": [
        {
          "output_type": "stream",
          "name": "stderr",
          "text": [
            "/usr/local/lib/python3.11/dist-packages/xgboost/core.py:158: UserWarning: [19:37:02] WARNING: /workspace/src/learner.cc:740: \n",
            "Parameters: { \"use_label_encoder\" } are not used.\n",
            "\n",
            "  warnings.warn(smsg, UserWarning)\n"
          ]
        },
        {
          "output_type": "stream",
          "name": "stdout",
          "text": [
            "              precision    recall  f1-score   support\n",
            "\n",
            "           0       0.98      0.98      0.98      1060\n",
            "           1       0.43      0.48      0.45        31\n",
            "\n",
            "    accuracy                           0.97      1091\n",
            "   macro avg       0.71      0.73      0.72      1091\n",
            "weighted avg       0.97      0.97      0.97      1091\n",
            "\n",
            "Precision-Recall AUC: 0.4415\n"
          ]
        }
      ],
      "source": [
        "import pandas as pd\n",
        "import numpy as np\n",
        "from imblearn.over_sampling import SMOTE\n",
        "from imblearn.under_sampling import RandomUnderSampler\n",
        "from sklearn.model_selection import train_test_split\n",
        "from sklearn.metrics import classification_report, precision_recall_curve, auc\n",
        "from xgboost import XGBClassifier\n",
        "from sklearn.model_selection import GridSearchCV\n",
        "\n",
        "# Load dataset\n",
        "df = pd.read_csv(\"/content/Train.csv\")  # Replace with your actual dataset\n",
        "\n",
        "# Split target and features\n",
        "y = df.iloc[:, 0]   # First column is the target variable\n",
        "X = df.iloc[:, 1:]  # Remaining columns are features\n",
        "\n",
        "# Train-Test Split\n",
        "X_train, X_test, y_train, y_test = train_test_split(X, y, test_size=0.2, stratify=y, random_state=42)\n",
        "\n",
        "# Improved Hybrid Resampling (SMOTE + Undersampling)\n",
        "smote = SMOTE(sampling_strategy=0.2, random_state=42)  # Increase minority class more\n",
        "undersample = RandomUnderSampler(sampling_strategy=0.5, random_state=42)  # Reduce majority\n",
        "\n",
        "X_resampled, y_resampled = smote.fit_resample(X_train, y_train)\n",
        "X_resampled, y_resampled = undersample.fit_resample(X_resampled, y_resampled)\n",
        "\n",
        "# Define XGBoost model with hyperparameter tuning\n",
        "xgb = XGBClassifier(objective=\"binary:logistic\", eval_metric=\"logloss\", use_label_encoder=False)\n",
        "\n",
        "param_grid = {\n",
        "    \"learning_rate\": [0.01, 0.05, 0.1],\n",
        "    \"max_depth\": [3, 5, 7],\n",
        "    \"n_estimators\": [100, 200, 300],\n",
        "    \"scale_pos_weight\": [1, (y_train.value_counts()[0] / y_train.value_counts()[1])]\n",
        "}\n",
        "\n",
        "grid_search = GridSearchCV(xgb, param_grid, scoring=\"f1\", cv=3, n_jobs=-1)\n",
        "grid_search.fit(X_resampled, y_resampled)\n",
        "\n",
        "best_xgb = grid_search.best_estimator_\n",
        "\n",
        "# Predict Probabilities\n",
        "y_pred_prob = best_xgb.predict_proba(X_test)[:, 1]\n",
        "\n",
        "# Adjust Decision Threshold\n",
        "threshold = 0.7  # Adjusting threshold to favor minority class\n",
        "y_pred = (y_pred_prob >= threshold).astype(int)\n",
        "\n",
        "# Evaluation Metrics\n",
        "print(classification_report(y_test, y_pred))\n",
        "\n",
        "# Precision-Recall AUC\n",
        "precision, recall, _ = precision_recall_curve(y_test, y_pred_prob)\n",
        "pr_auc = auc(recall, precision)\n",
        "print(f\"Precision-Recall AUC: {pr_auc:.4f}\")\n"
      ]
    }
  ]
}